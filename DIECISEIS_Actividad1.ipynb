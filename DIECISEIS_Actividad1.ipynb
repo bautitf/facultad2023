{
 "cells": [
  {
   "cell_type": "markdown",
   "id": "b015a19f",
   "metadata": {},
   "source": [
    "# Actividad 1  por Python plus - Parte I \n",
    "\n",
    "## Resolvé el siguiente desafío:"
   ]
  },
  {
   "cell_type": "markdown",
   "id": "db6785ca",
   "metadata": {},
   "source": [
    "**EJERCICIO 16:** dado el archivo denominado [log_catedras](https://archivos.linti.unlp.edu.ar/index.php/s/ofgZh41dUYMYX6H) que contiene  el registro de  accesos al entorno catedras.linti, se desea:\n",
    "1. Generar una función que retorna la actividad de un usuario dado como parámetro. Esta función recibe un parámetro  opcional que indica: \"TODO\" para retornar la información completa, \"FACULTAD\", solo los accesos realizados desde la facultad (dirección IP comienza con \"163.10\") o \"EXTERIOR, solo los accesos realizados con una IP que no comienza con \"163.10\". Por defecto la función retorna solo los accesos desde la facultad. \n",
    "2. Escribir un programa que, utilizando la función anterior, muestre un listado similar al siguiente, donde sólo se muestra la información sobre fecha y hora de acceso, recurso accedido y dirección IP. Notar que la columna \"Recurso accedido\" no muestra todo el texto sino los primeros caracteres de modo que quede prolijo el listado.\n",
    " \n",
    "```\n",
    "Usuario: Hypno\n",
    "---------------------------------------------------\n",
    "Dia        Recurso accedido     Dir IP         Hora\n",
    "---------------------------------------------------\n",
    "3/04/23    BigBlueButton: Sala  190.19.24.34   08:41:47\n",
    "3/04/23    Tarea: Entrega 2     190.19.24.34   23:35:07\n",
    "```"
   ]
  },
  {
   "cell_type": "code",
   "execution_count": 2,
   "id": "5021bb7c",
   "metadata": {},
   "outputs": [
    {
     "name": "stdout",
     "output_type": "stream",
     "text": [
      "Ingrese un usuarioHypno\n"
     ]
    },
    {
     "ename": "FileNotFoundError",
     "evalue": "[Errno 2] No such file or directory: 'log_catedras'",
     "output_type": "error",
     "traceback": [
      "\u001b[1;31m---------------------------------------------------------------------------\u001b[0m",
      "\u001b[1;31mFileNotFoundError\u001b[0m                         Traceback (most recent call last)",
      "Cell \u001b[1;32mIn[2], line 34\u001b[0m\n\u001b[0;32m     29\u001b[0m     \u001b[38;5;28;01melse\u001b[39;00m:\n\u001b[0;32m     30\u001b[0m         \u001b[38;5;28mprint\u001b[39m(\u001b[38;5;124mf\u001b[39m\u001b[38;5;124m\"\u001b[39m\u001b[38;5;124mNo se encontró actividad para el usuario \u001b[39m\u001b[38;5;132;01m{\u001b[39;00mnombre_usuario\u001b[38;5;132;01m}\u001b[39;00m\u001b[38;5;124m.\u001b[39m\u001b[38;5;124m\"\u001b[39m)\n\u001b[1;32m---> 34\u001b[0m \u001b[43mactividad_del_alumno\u001b[49m\u001b[43m(\u001b[49m\u001b[38;5;28;43minput\u001b[39;49m\u001b[43m(\u001b[49m\u001b[38;5;124;43m'\u001b[39;49m\u001b[38;5;124;43mIngrese un usuario\u001b[39;49m\u001b[38;5;124;43m'\u001b[39;49m\u001b[43m)\u001b[49m\u001b[43m)\u001b[49m\n",
      "Cell \u001b[1;32mIn[2], line 20\u001b[0m, in \u001b[0;36mactividad_del_alumno\u001b[1;34m(nombre_usuario)\u001b[0m\n\u001b[0;32m     19\u001b[0m \u001b[38;5;28;01mdef\u001b[39;00m \u001b[38;5;21mactividad_del_alumno\u001b[39m(nombre_usuario):\n\u001b[1;32m---> 20\u001b[0m     resultados \u001b[38;5;241m=\u001b[39m \u001b[43mactividad_usuario\u001b[49m\u001b[43m(\u001b[49m\u001b[43mnombre_usuario\u001b[49m\u001b[43m)\u001b[49m\n\u001b[0;32m     21\u001b[0m     \u001b[38;5;28;01mif\u001b[39;00m resultados:\n\u001b[0;32m     22\u001b[0m         \u001b[38;5;28mprint\u001b[39m(\u001b[38;5;124mf\u001b[39m\u001b[38;5;124m\"\u001b[39m\u001b[38;5;124mUsuario: \u001b[39m\u001b[38;5;132;01m{\u001b[39;00mnombre_usuario\u001b[38;5;132;01m}\u001b[39;00m\u001b[38;5;124m\"\u001b[39m)\n",
      "Cell \u001b[1;32mIn[2], line 3\u001b[0m, in \u001b[0;36mactividad_usuario\u001b[1;34m(nombre_usuario, filtro)\u001b[0m\n\u001b[0;32m      2\u001b[0m \u001b[38;5;28;01mdef\u001b[39;00m \u001b[38;5;21mactividad_usuario\u001b[39m(nombre_usuario, filtro\u001b[38;5;241m=\u001b[39m\u001b[38;5;124m'\u001b[39m\u001b[38;5;124mFACULTAD\u001b[39m\u001b[38;5;124m'\u001b[39m):\n\u001b[1;32m----> 3\u001b[0m     \u001b[38;5;28;01mwith\u001b[39;00m \u001b[38;5;28;43mopen\u001b[39;49m\u001b[43m(\u001b[49m\u001b[38;5;124;43m'\u001b[39;49m\u001b[38;5;124;43mlog_catedras\u001b[39;49m\u001b[38;5;124;43m'\u001b[39;49m\u001b[43m,\u001b[49m\u001b[43m \u001b[49m\u001b[38;5;124;43m'\u001b[39;49m\u001b[38;5;124;43mr\u001b[39;49m\u001b[38;5;124;43m'\u001b[39;49m\u001b[43m)\u001b[49m \u001b[38;5;28;01mas\u001b[39;00m archivo:\n\u001b[0;32m      4\u001b[0m         lineas \u001b[38;5;241m=\u001b[39m archivo\u001b[38;5;241m.\u001b[39mreadlines()\n\u001b[0;32m      5\u001b[0m         resultados \u001b[38;5;241m=\u001b[39m []\n",
      "File \u001b[1;32m~\\AppData\\Local\\Packages\\PythonSoftwareFoundation.Python.3.10_qbz5n2kfra8p0\\LocalCache\\local-packages\\Python310\\site-packages\\IPython\\core\\interactiveshell.py:284\u001b[0m, in \u001b[0;36m_modified_open\u001b[1;34m(file, *args, **kwargs)\u001b[0m\n\u001b[0;32m    277\u001b[0m \u001b[38;5;28;01mif\u001b[39;00m file \u001b[38;5;129;01min\u001b[39;00m {\u001b[38;5;241m0\u001b[39m, \u001b[38;5;241m1\u001b[39m, \u001b[38;5;241m2\u001b[39m}:\n\u001b[0;32m    278\u001b[0m     \u001b[38;5;28;01mraise\u001b[39;00m \u001b[38;5;167;01mValueError\u001b[39;00m(\n\u001b[0;32m    279\u001b[0m         \u001b[38;5;124mf\u001b[39m\u001b[38;5;124m\"\u001b[39m\u001b[38;5;124mIPython won\u001b[39m\u001b[38;5;124m'\u001b[39m\u001b[38;5;124mt let you open fd=\u001b[39m\u001b[38;5;132;01m{\u001b[39;00mfile\u001b[38;5;132;01m}\u001b[39;00m\u001b[38;5;124m by default \u001b[39m\u001b[38;5;124m\"\u001b[39m\n\u001b[0;32m    280\u001b[0m         \u001b[38;5;124m\"\u001b[39m\u001b[38;5;124mas it is likely to crash IPython. If you know what you are doing, \u001b[39m\u001b[38;5;124m\"\u001b[39m\n\u001b[0;32m    281\u001b[0m         \u001b[38;5;124m\"\u001b[39m\u001b[38;5;124myou can use builtins\u001b[39m\u001b[38;5;124m'\u001b[39m\u001b[38;5;124m open.\u001b[39m\u001b[38;5;124m\"\u001b[39m\n\u001b[0;32m    282\u001b[0m     )\n\u001b[1;32m--> 284\u001b[0m \u001b[38;5;28;01mreturn\u001b[39;00m io_open(file, \u001b[38;5;241m*\u001b[39margs, \u001b[38;5;241m*\u001b[39m\u001b[38;5;241m*\u001b[39mkwargs)\n",
      "\u001b[1;31mFileNotFoundError\u001b[0m: [Errno 2] No such file or directory: 'log_catedras'"
     ]
    }
   ],
   "source": [
    "\n",
    "def obtener_actividad(usuario, opcion=\"FACULTAD\"):\n",
    "    with open(\"log_catedras\", \"r\") as archivo:\n",
    "\n",
    "        lineas = archivo.readlines()\n",
    "\n",
    "\n",
    "    accesos = []  \n",
    "    \n",
    "    #voy a asumir que en el archivo:\n",
    "    # 0 : hora\n",
    "    # 1 : nombre del usuario\n",
    "    # 3 : recurso accedido\n",
    "    # 6 : direccion ip\n",
    "    # hora-usuario-usuarioafectado-contextodelevento-nombrevento-descripcion-direccionip\n",
    "\n",
    "    for linea in lineas:\n",
    "\n",
    "        campos = linea.split(\",\")\n",
    "\n",
    "        #obtengo los datos de la línea actual\n",
    "        usuario_log = campos[1]\n",
    "        recurso = campos[3]\n",
    "        ip = campos[6]\n",
    "\n",
    "        #obtener la hora\n",
    "        fecha_hora = campos[0].strip()\n",
    "        fecha = fecha_hora[:8]\n",
    "        hora = fecha_hora[8:]\n",
    "\n",
    "\n",
    "        if usuario_log == usuario:\n",
    "            if opcion == \"TODO\":\n",
    "                accesos.append((fecha, recurso, ip, hora))\n",
    "            elif opcion == \"FACULTAD\":\n",
    "                if ip.startswith(\"163.10\"):\n",
    "                    accesos.append((fecha, recurso, ip, hora))\n",
    "            elif opcion == \"EXTERIOR\":\n",
    "                if not ip.startswith(\"163.10\"):\n",
    "                    accesos.append((fecha, recurso, ip, hora))\n",
    "\n",
    "    return accesos\n",
    "\n",
    "\n",
    "usuario = input(\"Ingrese nombre del usuario\")\n",
    "accesos = obtener_actividad(usuario)\n",
    "\n",
    "#el encabezado bonito\n",
    "print(f\"Usuario: {usuario}\")\n",
    "print(\"-\" * 54)\n",
    "print(\"{:<10}{:<25}{:<15}{}\".format(\"Dia\", \"Recurso accedido\", \"Dir IP\", \"Hora\"))\n",
    "print(\"-\" * 54)\n",
    "\n",
    "\n",
    "for acceso in accesos:\n",
    "    fecha, recurso, ip, hora = acceso\n",
    "    if len(recurso) > 15:\n",
    "        recurso = recurso[:20] + \"...\" #que no se haga muy largo el nombre del recurso al que el usuario accedio\n",
    "    else : recurso\n",
    "    print(\"{:<10}{:<25}{:<15}{}\".format(fecha, recurso, ip, hora))"
   ]
  },
  {
   "cell_type": "code",
   "execution_count": null,
   "id": "0f2cb4fa",
   "metadata": {},
   "outputs": [],
   "source": []
  }
 ],
 "metadata": {
  "kernelspec": {
   "display_name": "Python 3 (ipykernel)",
   "language": "python",
   "name": "python3"
  },
  "language_info": {
   "codemirror_mode": {
    "name": "ipython",
    "version": 3
   },
   "file_extension": ".py",
   "mimetype": "text/x-python",
   "name": "python",
   "nbconvert_exporter": "python",
   "pygments_lexer": "ipython3",
   "version": "3.10.11"
  }
 },
 "nbformat": 4,
 "nbformat_minor": 5
}
